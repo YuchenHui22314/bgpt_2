{
 "cells": [
  {
   "cell_type": "markdown",
   "metadata": {},
   "source": [
    "#### Preprocessing CIFAR10 dataset"
   ]
  },
  {
   "cell_type": "code",
   "execution_count": 81,
   "metadata": {},
   "outputs": [
    {
     "name": "stdout",
     "output_type": "stream",
     "text": [
      "[ 59  43  50  68  98 119 139 145 149 149 131 125 142 144 137 129 137 134\n",
      " 124 139 139 133 136 139 152 163 168 159 158 158 152 148  16   0  18  51\n",
      "  88 120 128 127 126 116 106 101 105 113 109 112 119 109 105 125 127 122\n",
      " 131 124 121 131 132 133 133 123 119 122  25  16  49  83 110 129 130 121\n",
      " 113 112 112 106 105 128 124 130 127 122 115 120 130 131 139 127 126 127\n",
      " 130 142 130 118 120 109  33  38  87 106 115 117 114 105 107 121 125 109\n",
      " 113 146 133 127 118 117 127 122 132 137 136 131 124 130 132 135 130 125\n",
      " 121  94  50  59 102 127 124 121 120 114 107 125 129 106 108 124 121 108\n",
      "  98 110 117 120 134 140 131 141 135 127 121 119 103  87  75  67  71  84\n",
      " 110 129 136 131 129 119 108 122 123 105 107 111 108  98  94  97  83  88\n",
      " 102  97  88 118 140 136 120 107  88  67  35  32  97 111 123 130 136 132\n",
      " 122 121 127 138 124 120 107  80  68  74 101 105  65  58  63  78 136 122\n",
      " 139 151 129 108  95  96  89  66 115 119 130 140 133 127 138 137 131 133\n",
      " 134 108  72  51  41  72 181 209 125  68  64  82 123 112 135 151 137 114\n",
      " 105 101 126 102 137 128 132 128 119 123 128 130 121 137 131  74  54  50\n",
      "  44  86 203 217 162 100  77  75  74  76 107 135 135 129 127 119 125 134\n",
      " 154 154 156 140 123 125 126 127 133 132  90  63  62  70  79 103 152 148\n",
      " 141 121 101  96  86  75 101 136 136 134 133 132 128 133 154 155 156 147\n",
      " 133 137 139 134 141 121  80  97  90  98 137 139 148 134 138 134 140 175\n",
      " 142 102 108 135 131 133 138 136 130 134 145 146 146 135 127 129 117 103\n",
      " 130 120 111 146 136 163 169 152 161 148 177 161 195 209 189 125 108 140\n",
      " 137 132 136 133 132 133 142 141 140 144 147 121  84  88 109 101 138 213\n",
      " 178 191 211 189 205 207 213 191 199 188 161 130 124 131 130 131 134 135\n",
      " 136 133 158 154 142 143 132  90  72  81  84 107 165 229 183 191 239 219\n",
      " 228 225 214 216 210 200 189 174 161 139 134 126 131 142 136 138 145 149\n",
      " 147 147 136  80  89 105  96 129 192 185 145 203 223 242 244 238 241 227\n",
      " 225 235 219 224 215 156 128 129 131 133 128 130 148 146 145 147 133  63\n",
      "  66  88 113 182 220 138 162 206 196 247 255 255 245 236 230 215 231 250\n",
      " 241 158 125 126 124 125 126 124 149 143 144 151 132  64  84 112 163 223\n",
      " 206 145 196 204 220 243 245 239 234 231 195 150 208 250 227 163 145 143\n",
      " 140 136 121 114 147 134 140 148 135 100 108 144 210 248 175 175 220 226\n",
      " 230 233 224 201 184 181 190 170 179 231 223 162 146 140 139 145 142 128\n",
      " 152 117 114 123 126 122  93 179 238 248 170 185 241 230 187 180 166 146\n",
      " 149 157 184 216 212 236 236 166 136 134 130 127 137 151 145 127 128 133\n",
      " 132 135 171 237 252 229 173 169 220 194 123 135 127 151 165 132 151 202\n",
      " 240 240 222 156 119 120 112 100  99 140 143 127 129 129 130 140 219 244\n",
      " 210 193 166 153 191 179 128 147 149 172 147 128 141 173 202 190 198 152\n",
      " 100 109 119 121 108 136 143 125 131 128 123 153 148 166 188 182 171 165\n",
      " 195 190 152 143 152 153 142 141 135 136 148 141 141 138 111 111 121 129\n",
      " 138 179 141 131 139 139 138 151 128 136 175 173 189 205 201 168 151 145\n",
      " 146 149 153 149 144 144 145 143 129 123 124 113 108 113 148 199 143 139\n",
      " 138 149 160 150 147 151 169 167 179 212 203 207 149 139 144 137 151 155\n",
      " 152 140 107  91  84 105 132 118  96 102 159 190 149 133 136 147 150 153\n",
      " 157 162 175 190 166 202 224 197 192 180 146 126 141 156 153 115  77  79\n",
      "  93 126 133 119 113 140 187 154 172 144 135 136 135 139 153 163 166 184\n",
      " 166 150 184 156 158 168 149 135 130 132 128 127 135 143 139 136 127 121\n",
      " 135 189 211 136 202 187 151 128 122 134 142 150 153 148 135 127 153 166\n",
      " 143 130 128 151 152 135 139 155 161 154 154 143 130 132 171 215 186 117\n",
      " 216 193 168 151 131 126 138 144 142 137 120 131 145 144 137 127 126 139\n",
      " 153 149 140 135 147 148 149 149 137 143 203 206 124  71 220 201 186 172\n",
      " 156 142 142 153 150 139 126 136 148 141 131 126 127 138 150 154 149 124\n",
      " 126 141 145 147 127 114 186 173  56  33 208 201 198 191 183 171 159 147\n",
      " 135 130 139 147 144 145 137 136 137 148 152 150 155 138 120 128 142 135\n",
      "  90  50 137 160  56  53 180 173 186 194 198 201 189 173 156 139 142 145\n",
      " 141 141 139 140 143 139 138 143 146 135 117 112 122 104  58  34 131 184\n",
      "  97  83 177 168 179 188 202 218 218 207 191 175 166 163 163 161 153 159\n",
      " 162 149 140 148 161 144 112 119 130 120  92 103 170 216 151 123  62  46\n",
      "  48  54  73  91 107 110 117 120 103  99 115 112 105  97 106 106  97 113\n",
      " 112 105 105 108 120 131 136 129 130 132 125 124  20   0   8  27  51  82\n",
      "  89  86  87  79  70  67  70  74  70  72  79  71  69  89  92  85  89  82\n",
      "  79  89  91  94  96  88  83  87  24   7  27  50  72  92  93  82  77  78\n",
      "  79  75  73  92  87  92  89  85  79  85  95  96 102  90  89  89  92 105\n",
      "  94  84  84  73  25  20  54  63  70  74  72  62  68  84  90  75  77 105\n",
      "  91  84  76  76  87  81  92  99  99  93  86  91  90  93  90  87  85  62\n",
      "  32  32  65  79  77  77  78  74  72  88  89  68  71  83  78  68  65  74\n",
      "  80  80  93 106  95  98  92  84  79  79  67  57  47  42  48  53  73  82\n",
      "  88  84  84  77  70  82  81  65  72  77  74  65  62  63  56  58  68  69\n",
      "  54  74  96  97  80  68  54  39  10  13  69  75  85  84  88  83  74  74\n",
      "  83  94  79  79  71  50  43  41  51  56  37  36  37  51  93  68  86 106\n",
      "  87  68  59  63  61  47  82  76  90  97  88  81  90  89  86  89  91  70\n",
      "  39  26  22  31 102 127  76  40  38  53  77  56  81 103  95  76  69  66\n",
      "  92  74 100  82  91  87  81  82  85  85  80  97  94  42  25  29  29  39\n",
      " 106 109  90  58  42  43  39  35  67  96  97  91  89  83  86  95 120 112\n",
      " 114 100  89  86  86  91  97  97  60  35  33  39  50  53  70  64  79  75\n",
      "  58  54  48  38  63  91  92  93  93  93  86  92 122 117 117 108 100 100\n",
      " 102 102 111  87  40  53  45  56  91  84  87  73  82  85  92 129  99  61\n",
      "  67  90  87  91  97  95  86  93 114 109 109  97  92  94  84  74 103  83\n",
      "  60  86  78 116 115 100 116  97 121 110 150 167 146  78  63  96  95  93\n",
      "  95  90  87  92 115 106 105 105 110  89  56  61  80  57  79 150 123 150\n",
      " 169 148 164 162 164 143 158 151 121  83  77  87  91  93  93  91  89  91\n",
      " 131 119 107 102  92  59  44  52  47  55 106 176 137 158 216 192 188 188\n",
      " 177 174 171 169 162 137 118  95  96  90  92  98  89  97 115 109 108 105\n",
      "  95  47  57  68  51  81 152 148 101 162 200 227 227 220 219 197 191 209\n",
      " 206 208 192 118  89  95  95  97  89  92 116 100 100 100  96  42  43  50\n",
      "  65 146 191  94 105 156 166 234 253 252 234 217 208 196 217 241 229 132\n",
      "  95  97  92  91  88  88 115  95  97  99  87  40  59  69 121 204 182  90\n",
      " 133 157 188 226 237 233 224 217 181 137 193 241 216 142 127 129 123 116\n",
      "  95  82 111  88  99 103  89  64  73 104 181 243 147 119 176 197 207 218\n",
      " 212 186 163 158 171 157 167 218 206 133 116 115 116 123 119 102 114  75\n",
      "  80  90  91  83  58 154 226 243 134 132 214 218 169 160 146 119 116 124\n",
      " 157 195 198 221 212 125  85  81  83  86 105 128 105  82  90  92  89  95\n",
      " 145 227 247 213 136 121 182 169  89  98  91 114 127  99 126 183 228 225\n",
      " 196 117  76  75  66  65  74 121 104  80  86  85  86 102 196 232 199 173\n",
      " 129 104 146 145  86 102 106 131 108  94 113 150 183 171 175 124  72  81\n",
      "  88  92  82 119 104  76  85  81  81 117 118 141 166 156 134 115 148 153\n",
      " 108  95 105 110 102 102 101 101 110 106 111 113 100 111 118 116 116 162\n",
      " 102  80  89  87  90 111  91  97 136 136 151 160 157 131 108  97 101 106\n",
      " 110 108 104 105 104 102  96 103 126 135 133 122 136 184 103  87  89  96\n",
      " 109 106 104 104 121 123 141 174 168 177 112  96 102  94 107 111 109 101\n",
      "  76  60  61  99 142 141 121 113 149 174 107  80  88  99 104 109 112 117\n",
      " 131 145 124 168 197 175 165 144 106  82  97 112 109  74  43  50  73 117\n",
      " 134 116  99 121 165 132 128  88  85  88  90  94 108 117 120 136 118 110\n",
      " 149 121 123 130 109  91  85  88  84  83  92 105 108 112 105  92 102 159\n",
      " 181 107 157 129 100  79  76  88  98 106 106  99  87  82 109 121  99  88\n",
      "  87 108 106  90  95 110 113 107 112 105  93  90 131 183 155  86 174 136\n",
      " 122 111  88  82  94 100  95  92  78  87  99 101  94  83  82  94 108 104\n",
      "  95  91 103 105 108 109 101 107 167 173  93  48 182 150 148 139 120 103\n",
      " 100 108 105  98  88  92 102 101  89  82  81  88 100 104 101  78  85 101\n",
      " 107 112 101  87 155 144  29  19 170 153 161 157 146 135 121 107  95  87\n",
      "  93  98  95  99  91  89  90 102 106 103 110  94  76  84 102 103  69  24\n",
      " 105 133  31  34 139 123 144 153 158 164 153 137 118  99  97  97  92  93\n",
      "  91  91  95  99  98  96  93  84  80  72  81  67  31   5  94 148  62  53\n",
      " 144 129 142 149 168 189 191 181 163 143 132 128 127 123 114 120 124 116\n",
      " 104 103 105  95  90  91  96  87  67  78 140 184 118  92  63  45  43  42\n",
      "  52  63  75  80  89  93  77  76  91  86  79  71  79  76  64  78  75  69\n",
      "  74  77  89 100 108 102 104 108 102 103  20   0   0   8  21  43  45  44\n",
      "  50  44  37  35  36  35  33  37  44  33  27  46  46  39  47  41  37  48\n",
      "  53  58  60  55  50  57  21   0   8  23  41  54  55  47  43  44  46  45\n",
      "  38  48  47  56  56  51  43  47  54  55  62  51  49  50  53  68  58  50\n",
      "  50  42  17   4  25  28  33  35  37  33  33  45  53  40  38  58  47  45\n",
      "  40  41  52  43  51  58  57  52  44  50  49  51  50  50  48  35  21  11\n",
      "  34  39  36  36  40  39  34  49  51  31  33  42  39  29  23  37  49  41\n",
      "  50  66  58  66  51  45  41  40  32  27  23  25  29  24  37  38  45  42\n",
      "  43  37  33  44  39  25  31  31  34  27  21  32  38  36  42  46  36  72\n",
      "  79  64  45  34  24  15   0   4  40  36  43  38  44  40  30  31  46  54\n",
      "  34  39  34  14  17  17  21  23  16  19  18  31  83  80  79  69  49  36\n",
      "  29  37  38  30  49  33  47  53  48  40  47  46  48  46  46  39  19  10\n",
      "  14  17  69  81  47  23  17  30  62  55  60  61  54  39  34  33  59  46\n",
      "  68  41  51  48  44  43  44  44  40  54  53  20  16  16  18  15  56  62\n",
      "  71  49  27  24  24  22  36  59  58  49  48  43  45  56  89  77  82  65\n",
      "  53  50  48  52  60  68  30   9  16  20  30  26  33  37  61  57  41  33\n",
      "  24  21  32  53  53  50  52  52  45  55  94  82  82  70  64  66  68  66\n",
      "  81  68  13  17  17  30  57  49  54  37  46  57  76 106  53  26  25  41\n",
      "  45  51  57  55  46  57  89  73  69  55  57  65  55  42  70  55  14  22\n",
      "  23  77  69  52  73  57  82  71 113 123  94  40  25  52  59  56  57  51\n",
      "  46  56  86  69  68  64  74  65  34  33  44  23  19  59  41  98 122  99\n",
      " 110 115 118  91  97  88  76  50  38  51  61  60  57  52  48  56  98  82\n",
      "  74  65  59  36  22  24  19  25  50  92  57 103 176 149 128 120 112 112\n",
      " 110 109 114 100  76  57  66  59  56  60  48  61  79  66  68  65  62  21\n",
      "  32  40  26  45 113 107  51 121 170 196 186 165 163 144 139 157 164 181\n",
      " 156  78  57  62  60  60  50  56  79  54  55  51  54  21  31  34  37 110\n",
      " 169  71  63 112 135 212 232 219 197 180 170 160 197 229 195  78  49  58\n",
      "  52  49  46  54  79  49  51  51  49  21  41  37  75 166 157  56  84 110\n",
      " 156 208 226 215 201 192 152 100 154 216 173  78  60  62  55  46  30  40\n",
      "  76  47  61  66  60  38  43  66 140 212 115  73 129 164 179 196 195 166\n",
      " 138 128 136 105 105 181 161  71  43  34  33  38  35  41  80  37  48  57\n",
      "  56  48  32 138 212 229 104  88 177 195 142 131 115  85  79  83 110 141\n",
      " 152 197 176  63  16  13  13  16  27  54  72  41  51  53  49  51 110 205\n",
      " 235 194 100  73 138 135  55  60  48  63  74  50  79 142 203 210 169  64\n",
      "  12  16  14  15  19  54  66  38  49  46  45  59 161 210 186 151  92  55\n",
      "  96 105  47  58  59  78  54  45  67 112 160 147 146  86  26  34  43  50\n",
      "  36  50  64  32  48  43  39  76  85 118 147 132  99  69  99 110  66  49\n",
      "  56  58  51  54  55  60  74  65  68  71  37  31  35  39  45  83  65  35\n",
      "  46  44  50  71  52  61 104 107 118 120 113  89  65  53  52  57  61  61\n",
      "  59  59  59  60  48  39  30  14   8  10  44 102  72  44  42  52  72  64\n",
      "  58  57  81  87 105 138 132 141  74  55  56  47  61  65  63  55  38  34\n",
      "  23  25  34  20   4   9  63  99  74  37  48  59  63  62  67  78  96 107\n",
      "  84 133 168 148 133 107  64  40  52  66  61  29  14  25  33  47  39  31\n",
      "  24  42  91  75  76  18  35  48  45  49  68  83  82 100  88  75 110  86\n",
      "  87  92  71  51  43  43  37  36  52  66  62  52  39  39  44  87 114  58\n",
      "  82  26  25  34  41  49  53  56  58  63  59  44  60  77  59  51  52  70\n",
      "  65  48  50  63  65  63  67  54  44  46  70 106  91  48  87  16  19  35\n",
      "  34  35  49  53  53  51  34  41  52  57  54  48  51  60  69  63  53  46\n",
      "  57  59  62  63  54  57 102 105  49  26  91  22  24  28  26  30  51  75\n",
      "  73  57  38  47  62  60  51  49  51  52  60  65  60  36  41  55  61  68\n",
      "  59  46  98  87   9   9  96  34  26  27  34  32  42  52  49  46  57  62\n",
      "  55  57  51  52  54  58  60  61  64  46  33  39  58  62  40  11  60  70\n",
      "   7  20  96  42  30  25  34  36  32  32  38  38  49  56  52  52  51  53\n",
      "  58  60  60  56  43  33  38  29  39  30  11   0  57  94  34  34 116  94\n",
      "  87  67  68  76  72  70  79  82  86  92  94  92  84  90  93  91  83  77\n",
      "  69  55  59  58  65  59  46  57 104 140  84  72]\n"
     ]
    }
   ],
   "source": [
    "import torch\n",
    "import torchvision\n",
    "import pickle\n",
    "# Download and load the training dataset\n",
    "#trainset = torchvision.datasets.CIFAR10(root='./cifar/train', train=True, download=True)\n",
    "with open(\"/data/rech/huiyuche/bgpt_2/cifar/train/cifar-10-batches-py/data_batch_1\", 'rb') as fo:\n",
    "    dict = pickle.load(fo, encoding = 'latin-1')\n",
    "print(dict[\"data\"][0])\n"
   ]
  },
  {
   "cell_type": "markdown",
   "metadata": {},
   "source": [
    "#### Preprocessing AgNews"
   ]
  },
  {
   "cell_type": "code",
   "execution_count": null,
   "metadata": {},
   "outputs": [],
   "source": [
    "import pandas as pd\n",
    "\n",
    "# Path to your .parquet file\n",
    "file_path = '/data/rech/huiyuche/bgpt_2/ag_news/train/train-00000-of-00001.parquet'\n",
    "\n",
    "# Load the file into a DataFrame\n",
    "df = pd.read_parquet(file_path)\n",
    "\n",
    "df = df.sample(n=1000, random_state=42)\n",
    "# Display the data\n",
    "print(df.head())\n",
    "print(df.shape)\n",
    "\n",
    "\n",
    "# iterate over text column. save each text to a file called '{index}.txt'\n",
    "\n",
    "for index, row in df.iterrows():\n",
    "    with open(f'/data/rech/huiyuche/bgpt_2/ag_news/train/{index}.txt', 'w', encoding= \"utf-8\") as f:\n",
    "        f.write(row['text'])\n",
    "\n",
    "# print the average of the length of the text column\n",
    "print(df['text'].apply(len).mean())"
   ]
  },
  {
   "cell_type": "markdown",
   "metadata": {},
   "source": [
    "#### BFD & Corr"
   ]
  },
  {
   "cell_type": "code",
   "execution_count": 99,
   "metadata": {},
   "outputs": [],
   "source": [
    "from utils import *\n",
    "import os\n",
    "import sys\n",
    "import importlib\n",
    "importlib.reload(sys.modules['utils'])\n",
    "from utils import *"
   ]
  },
  {
   "cell_type": "code",
   "execution_count": 100,
   "metadata": {},
   "outputs": [],
   "source": [
    "\n",
    "ByteFrequencyDistribution().get_BFD_Corr_plots(\n",
    "    \"txt\",\n",
    "    \"/data/rech/huiyuche/bgpt_2/ag_news/train\",\n",
    "    \"plots\"\n",
    ")\n"
   ]
  },
  {
   "cell_type": "code",
   "execution_count": 101,
   "metadata": {},
   "outputs": [],
   "source": [
    "ByteFrequencyDistribution().get_BFD_Corr_plots(\n",
    "    \"png\",\n",
    "    \"/data/rech/huiyuche/bgpt_2/cifar/train\",\n",
    "    \"plots\"\n",
    ")"
   ]
  },
  {
   "cell_type": "code",
   "execution_count": 103,
   "metadata": {},
   "outputs": [],
   "source": [
    "ByteFrequencyDistribution().get_BFD_Corr_plots(\n",
    "    \"flac\",\n",
    "    \"/data/rech/huiyuche/bgpt_2/librispeech8K/train/LibriSpeech/dev-clean\",\n",
    "    \"plots\",\n",
    "    threshold=1\n",
    ")"
   ]
  },
  {
   "cell_type": "code",
   "execution_count": 63,
   "metadata": {},
   "outputs": [],
   "source": [
    "corr, corr_new, average_byte_frequency_table = ByteFrequencyDistribution().get_fingerprint_by_folder(\"/data/rech/huiyuche/bgpt_2/cifar/train\")"
   ]
  },
  {
   "cell_type": "code",
   "execution_count": 17,
   "metadata": {},
   "outputs": [
    {
     "name": "stdout",
     "output_type": "stream",
     "text": [
      "['19240.txt', '35420.txt', '866.txt', '103248.txt', '7067.txt', '108476.txt', '88548.txt', '83145.txt', '55646.txt', '93689.txt', '1002.txt', '18987.txt', '95304.txt', '25087.txt', '71000.txt', '29618.txt', '116167.txt', '54159.txt', '16398.txt', '2110.txt', '86744.txt', '57662.txt', '65397.txt', '114559.txt', '34267.txt', '16785.txt', '82247.txt', '93534.txt', '106606.txt', '86164.txt', '68265.txt', '85071.txt', '58551.txt', '114988.txt', '72881.txt', '43690.txt', '55139.txt', '100908.txt', '71365.txt', '59654.txt', '68720.txt', '593.txt', '106440.txt', '93817.txt', '107358.txt', '67930.txt', '116888.txt', '72038.txt', '16264.txt', '16605.txt', '65445.txt', '26302.txt', '100501.txt', '27123.txt', '62338.txt', '10744.txt', '80670.txt', '7696.txt', '62371.txt', '74068.txt', '62066.txt', '201.txt', '88618.txt', '6359.txt', '102052.txt', '69990.txt', '49493.txt', '104858.txt', '111992.txt', '53321.txt', '32184.txt', '9286.txt', '40471.txt', '13664.txt', '114609.txt', '10317.txt', '109424.txt', '81650.txt', '51640.txt', '63621.txt', '50776.txt', '37915.txt', '49024.txt', '36823.txt', '108753.txt', '5865.txt', '21785.txt', '70562.txt', '106376.txt', '108836.txt', '41077.txt', '19737.txt', '72078.txt', '95440.txt', '23538.txt', '31098.txt', '23188.txt', '88167.txt', '56645.txt', '80309.txt', '31743.txt', '7962.txt', '61754.txt', '76383.txt', '84210.txt', '24410.txt', '113560.txt', '79137.txt', '3923.txt', '6091.txt', '33802.txt', '40714.txt', '74699.txt', '47069.txt', '13732.txt', '505.txt', '26789.txt', '51635.txt', '7433.txt', '36352.txt', '49051.txt', '27853.txt', '2685.txt', '74284.txt', '112113.txt', '42892.txt', '32557.txt', '52502.txt', '61099.txt', '77351.txt', '39650.txt', '117939.txt', '30031.txt', '63920.txt', '50405.txt', '13897.txt', '40157.txt', '40008.txt', '26501.txt', '89612.txt', '39686.txt', '35527.txt', '97765.txt', '67265.txt', '41710.txt', '7095.txt', '42895.txt', '40415.txt', '80995.txt', '103837.txt', '54216.txt', '112832.txt', '75197.txt', '15113.txt', '73151.txt', '103219.txt', '109343.txt', '93675.txt', '7112.txt', '69559.txt', '12325.txt', '100285.txt', '90259.txt', '95975.txt', '8588.txt', '119908.txt', '37200.txt', '48214.txt', '28156.txt', '35642.txt', '33942.txt', '42560.txt', '119850.txt', '60053.txt', '89667.txt', '96247.txt', '399.txt', '57633.txt', '64764.txt', '101620.txt', '7031.txt', '21884.txt', '75639.txt', '19438.txt', '11687.txt', '119616.txt', '62295.txt', '48337.txt', '54263.txt', '16412.txt', '39411.txt', '64497.txt', '115016.txt', '32434.txt', '114541.txt', '43236.txt', '96737.txt', '12539.txt', '46727.txt', '25206.txt', '46397.txt', '44365.txt', '9274.txt', '83773.txt', '62500.txt', '50676.txt', '108240.txt', '79748.txt', '20371.txt', '16578.txt', '3617.txt', '101736.txt', '46437.txt', '38050.txt', '74204.txt', '38431.txt', '100433.txt', '37592.txt', '3733.txt', '49776.txt', '50024.txt', '71374.txt', '4577.txt', '108860.txt', '15315.txt', '25882.txt', '75844.txt', '35264.txt', '104229.txt', '53522.txt', '43706.txt', '119313.txt', '23444.txt', '107960.txt', '20475.txt', '82520.txt', '68902.txt', '27985.txt', '66946.txt', '14471.txt', '82019.txt', '36255.txt', '96978.txt', '72834.txt', '118011.txt', '30656.txt', '5448.txt', '96820.txt', '39741.txt', '96794.txt', '30419.txt', '74610.txt', '48635.txt', '103921.txt', '18154.txt', '25047.txt', '68453.txt', '55236.txt', '87859.txt', '9482.txt', '91425.txt', '20690.txt', '113159.txt', '11735.txt', '111930.txt', '97541.txt', '44836.txt', '31978.txt', '11980.txt', '16528.txt', '106522.txt', '20205.txt', '52895.txt', '62763.txt', '23771.txt', '40196.txt', '35246.txt', '15337.txt', '96553.txt', '44.txt', '25375.txt', '101134.txt', '95497.txt', '11699.txt', '52081.txt', '56288.txt', '82040.txt', '103048.txt', '70898.txt', '53748.txt', '91699.txt', '96926.txt', '24991.txt', '106559.txt', '29547.txt', '95104.txt', '110473.txt', '88610.txt', '59421.txt', '105080.txt', '43607.txt', '118483.txt', '41183.txt', '78075.txt', '30449.txt', '103046.txt', '3282.txt', '1749.txt', '104906.txt', '61346.txt', '93741.txt', '75158.txt', '54208.txt', '98675.txt', '99035.txt', '22950.txt', '25148.txt', '93746.txt', '110808.txt', '21678.txt', '77783.txt', '59206.txt', '43178.txt', '15394.txt', '88113.txt', '77561.txt', '76618.txt', '51762.txt', '117836.txt', '12584.txt', '6235.txt', '44309.txt', '543.txt', '104314.txt', '40913.txt', '13774.txt', '18379.txt', '56219.txt', '17095.txt', '57501.txt', '47082.txt', '15635.txt', '32489.txt', '67815.txt', '93686.txt', '81747.txt', '81796.txt', '89148.txt', '6770.txt', '69383.txt', '105638.txt', '56966.txt', '104419.txt', '38273.txt', '54537.txt', '6812.txt', '114304.txt', '116451.txt', '20865.txt', '30400.txt', '80783.txt', '112152.txt', '14994.txt', '54158.txt', '53940.txt', '67157.txt', '29824.txt', '35615.txt', '51449.txt', '85126.txt', '42939.txt', '56107.txt', '48863.txt', '32114.txt', '7524.txt', '19620.txt', '37870.txt', '88947.txt', '95586.txt', '56089.txt', '10883.txt', '111359.txt', '77308.txt', '92287.txt', '109590.txt', '113198.txt', '105954.txt', '83957.txt', '23325.txt', '94545.txt', '67531.txt', '97481.txt', '110565.txt', '60999.txt', '109763.txt', '713.txt', '20473.txt', '38089.txt', '62202.txt', '53139.txt', '67372.txt', '14805.txt', '35727.txt', '74881.txt', '32269.txt', '103583.txt', '76986.txt', '29786.txt', '66659.txt', '72674.txt', '62326.txt', '118555.txt', '190.txt', '65504.txt', '67251.txt', '91734.txt', '43862.txt', '2439.txt', '97609.txt', '41517.txt', '32564.txt', '20763.txt', '40386.txt', '51733.txt', '77297.txt', '31148.txt', '86670.txt', '17213.txt', '88409.txt', '69085.txt', '24021.txt', '35676.txt', '54402.txt', '67555.txt', '94521.txt', '28275.txt', '114231.txt', '31197.txt', '10912.txt', '66949.txt', '105593.txt', '24563.txt', '112144.txt', '63262.txt', '11203.txt', '108151.txt', '107442.txt', '300.txt', '46726.txt', '28852.txt', '87887.txt', '59011.txt', '88026.txt', '7168.txt', '12903.txt', '73412.txt', '115670.txt', '116304.txt', '110865.txt', '3245.txt', '101412.txt', '46929.txt', '41408.txt', '1517.txt', '72648.txt', '45082.txt', '77821.txt', '87295.txt', '13179.txt', '18906.txt', '33296.txt', '7320.txt', '95481.txt', '82568.txt', '75870.txt', '34548.txt', '60020.txt', '52090.txt', '119203.txt', '67218.txt', '20441.txt', '53891.txt', '75196.txt', '70797.txt', '62687.txt', '80246.txt', '98881.txt', '7329.txt', '64524.txt', '9869.txt', '19845.txt', '59265.txt', '53449.txt', '58044.txt', '61098.txt', '69130.txt', '54493.txt', '38528.txt', '62817.txt', '44048.txt', '80075.txt', '108325.txt', '20675.txt', '44236.txt', '67252.txt', '119249.txt', '88065.txt', '47034.txt', '116967.txt', '4975.txt', '53983.txt', '50896.txt', '72831.txt', '43994.txt', '52244.txt', '28487.txt', '95593.txt', '101797.txt', '49622.txt', '87452.txt', '75510.txt', '1644.txt', '90722.txt', '74579.txt', '12070.txt', '73900.txt', '24340.txt', '20198.txt', '2756.txt', '29211.txt', '14131.txt', '102311.txt', '119188.txt', '58365.txt', '69349.txt', '118641.txt', '82401.txt', '118137.txt', '104063.txt', '112631.txt', '68093.txt', '76692.txt', '56353.txt', '15866.txt', '49312.txt', '32057.txt', '7770.txt', '71371.txt', '104306.txt', '117741.txt', '41494.txt', '112769.txt', '105651.txt', '2339.txt', '63890.txt', '90835.txt', '33352.txt', '82586.txt', '5059.txt', '55866.txt', '16353.txt', '65456.txt', '86170.txt', '304.txt', '34428.txt', '7682.txt', '9500.txt', '83814.txt', '9161.txt', '76760.txt', '77933.txt', '76477.txt', '87737.txt', '48642.txt', '10898.txt', '2448.txt', '42497.txt', '91235.txt', '46139.txt', '105326.txt', '99562.txt', '74317.txt', '45515.txt', '35801.txt', '96366.txt', '30668.txt', '54897.txt', '36755.txt', '36493.txt', '674.txt', '13022.txt', '119090.txt', '101818.txt', '99756.txt', '95885.txt', '18902.txt', '53088.txt', '115336.txt', '118170.txt', '93022.txt', '53560.txt', '66739.txt', '21501.txt', '71516.txt', '18035.txt', '105279.txt', '94723.txt', '87364.txt', '37486.txt', '35806.txt', '65315.txt', '2874.txt', '62593.txt', '37857.txt', '66613.txt', '56775.txt', '39545.txt', '87682.txt', '26976.txt', '7119.txt', '27053.txt', '58208.txt', '41374.txt', '118215.txt', '33650.txt', '87543.txt', '48173.txt', '57921.txt', '39684.txt', '35632.txt', '55111.txt', '13108.txt', '72552.txt', '32224.txt', '35588.txt', '8529.txt', '25182.txt', '90699.txt', '37354.txt', '23718.txt', '63959.txt', '63934.txt', '51251.txt', '12601.txt', '25371.txt', '112201.txt', '86464.txt', '77345.txt', '103900.txt', '71619.txt', '67424.txt', '23546.txt', '32685.txt', '91256.txt', '52260.txt', '47694.txt', '78775.txt', '18437.txt', '6355.txt', '107417.txt', '50153.txt', '117252.txt', '42735.txt', '72125.txt', '92177.txt', '49344.txt', '85661.txt', '58845.txt', '28227.txt', '32073.txt', '36743.txt', '44267.txt', '36485.txt', '3064.txt', '103610.txt', '39402.txt', '54974.txt', '50418.txt', '85852.txt', '4472.txt', '10005.txt', '83333.txt', '8074.txt', '30263.txt', '59279.txt', '58107.txt', '17627.txt', '108029.txt', '110402.txt', '29186.txt', '20882.txt', '87478.txt', '115456.txt', '69944.txt', '96957.txt', '98676.txt', '18107.txt', '85503.txt', '78294.txt', '58442.txt', '49750.txt', '85412.txt', '38611.txt', '82656.txt', '10824.txt', '42651.txt', '118244.txt', '31154.txt', '25179.txt', '26584.txt', '11335.txt', '117447.txt', '117331.txt', '97118.txt', '54417.txt', '44145.txt', '28260.txt', '102404.txt', '25781.txt', '68725.txt', '81979.txt', '74334.txt', '79961.txt', '44061.txt', '64571.txt', '28344.txt', '49227.txt', '12800.txt', '95308.txt', '51022.txt', '62966.txt', '41828.txt', '111663.txt', '32429.txt', '82184.txt', '4896.txt', '9105.txt', '97738.txt', '115625.txt', '79058.txt', '61801.txt', '39089.txt', '34109.txt', '30300.txt', '111169.txt', '34080.txt', '36072.txt', '19071.txt', '101911.txt', '17792.txt', '55132.txt', '2888.txt', '94419.txt', '114630.txt', '15149.txt', '114768.txt', '77874.txt', '112123.txt', '73518.txt', '94656.txt', '74265.txt', '77254.txt', '15643.txt', '38115.txt', '77143.txt', '63791.txt', '116883.txt', '109438.txt', '24953.txt', '37975.txt', '66047.txt', '52850.txt', '13430.txt', '41065.txt', '93720.txt', '70454.txt', '51365.txt', '19260.txt', '45566.txt', '93839.txt', '62654.txt', '116402.txt', '52501.txt', '93603.txt', '52459.txt', '99177.txt', '4129.txt', '38556.txt', '2807.txt', '110311.txt', '42338.txt', '1025.txt', '49881.txt', '66357.txt', '78220.txt', '71787.txt', '11362.txt', '83971.txt', '95730.txt', '97876.txt', '89664.txt', '64470.txt', '24554.txt', '14964.txt', '16622.txt', '116222.txt', '56128.txt', '41471.txt', '9700.txt', '13752.txt', '48399.txt', '11466.txt', '14338.txt', '108271.txt', '63066.txt', '3469.txt', '81017.txt', '71965.txt', '48493.txt', '29191.txt', '58666.txt', '99212.txt', '9155.txt', '6330.txt', '62291.txt', '41694.txt', '96128.txt', '18820.txt', '21748.txt', '57876.txt', '5879.txt', '84382.txt', '6899.txt', '72636.txt', '48058.txt', '81444.txt', '52687.txt', '52120.txt', '55938.txt', '118370.txt', '101385.txt', '11098.txt', '46846.txt', '1256.txt', '108706.txt', '88288.txt', '50780.txt', '119703.txt', '15702.txt', '79097.txt', '54066.txt', '96610.txt', '7123.txt', '72056.txt', '60280.txt', '73038.txt', '52368.txt', '74820.txt', '101425.txt', '28850.txt', '96851.txt', '51386.txt', '25459.txt', '70007.txt', '40424.txt', '26180.txt', '73618.txt', '113315.txt', '6143.txt', '1199.txt', '35759.txt', '26241.txt', '32830.txt', '119593.txt', '60583.txt', '53877.txt', '114365.txt', '99633.txt', '17567.txt', '66290.txt', '26769.txt', '111278.txt', '116977.txt', '71314.txt', '33213.txt', '29826.txt', '12808.txt', '75383.txt', '96563.txt', '47217.txt', '105229.txt', '65394.txt', '77951.txt', '2037.txt', '115155.txt', '2619.txt', '79912.txt', '14005.txt', '96786.txt', '3915.txt', '118230.txt', '87439.txt', '2662.txt', '48246.txt', '76157.txt', '22602.txt', '92550.txt', '60860.txt', '11968.txt', '14625.txt', '16606.txt', '67237.txt', '39086.txt', '48007.txt', '98804.txt', '5428.txt', '16435.txt', '14238.txt', '40026.txt', '117675.txt', '40331.txt', '41389.txt', '55375.txt', '29163.txt', '107741.txt', '61371.txt', '33345.txt', '35619.txt', '70715.txt', '82816.txt', '109240.txt', '61523.txt', '50825.txt', '11445.txt', '36298.txt', '87175.txt', '77014.txt', '51058.txt', '111887.txt', '34223.txt', '24310.txt', '76745.txt', '53795.txt', '104661.txt', '7494.txt', '8241.txt', '64629.txt', '80304.txt', '28144.txt', '17074.txt', '76576.txt', '9138.txt', '1387.txt', '31974.txt', '21054.txt', '115.txt', '113392.txt', '64776.txt', '78535.txt', '46183.txt', '67822.txt', '96407.txt', '10817.txt', '101588.txt', '61085.txt', '71611.txt', '19858.txt', '107659.txt', '58512.txt', '65559.txt', '81074.txt', '55969.txt', '118486.txt', '12962.txt', '110878.txt', '3289.txt', '114966.txt', '14114.txt', '98174.txt', '46590.txt', '52724.txt', '117711.txt', '119830.txt', '26839.txt', '52052.txt', '81291.txt', '106375.txt', '2231.txt', '116009.txt', '113757.txt', '27886.txt', '48854.txt', '57815.txt', '85743.txt', '38686.txt', '53882.txt', '50242.txt', '886.txt', '93970.txt', '60904.txt']\n"
     ]
    }
   ],
   "source": [
    "corr, corr_new, BFD = ByteFrequencyDistribution().get_fingerprint_by_folder(\"/data/rech/huiyuche/bgpt_2/ag_news/train\")"
   ]
  },
  {
   "cell_type": "code",
   "execution_count": 18,
   "metadata": {},
   "outputs": [
    {
     "name": "stdout",
     "output_type": "stream",
     "text": [
      "58975\n"
     ]
    }
   ],
   "source": [
    "# transform corr (a dataframe) to numpy array\n",
    "import numpy as np\n",
    "np.set_printoptions(threshold=np.inf)\n",
    "corr_np = corr.to_numpy()\n",
    "print(np.isnan(corr_np).sum())\n",
    "corr.fillna(-0.5, inplace=True)"
   ]
  },
  {
   "cell_type": "code",
   "execution_count": 19,
   "metadata": {},
   "outputs": [
    {
     "data": {
      "image/png": "[encoded data removed]",
      "text/plain": [
       "<Figure size 1500x1200 with 2 Axes>"
      ]
     },
     "metadata": {},
     "output_type": "display_data"
    }
   ],
   "source": [
    "%matplotlib inline\n",
    "import numpy as np\n",
    "import pandas as pd\n",
    "import matplotlib.pyplot as plt\n",
    "import seaborn as sns\n",
    "\n",
    "upper = corr.where(np.triu(np.ones(corr.shape), k=1).astype(bool))\n",
    "\n",
    "# all values > 0.5 \n",
    "result = [(column, index) for column in upper.columns for index in upper.index if upper[column][index] > 0.7]\n",
    "\n",
    "\n",
    "# variable names\n",
    "variable_names = set([name for pair in result for name in pair])\n",
    "\n",
    "#  get all ticks positions\n",
    "all_ticks = np.arange(len(corr.columns))\n",
    "\n",
    "#  only keep the ticks of variables with correlation > 0.5\n",
    "filtered_ticks = [i for i, col in enumerate(corr.columns) if col in variable_names]\n",
    "\n",
    "# Only display labels greater than 0.5, and set other labels to empty strings\n",
    "xticks_labels = ['' if i not in filtered_ticks else corr.columns[i] for i in all_ticks]\n",
    "yticks_labels = ['' if i not in filtered_ticks else corr.index[i] for i in all_ticks]\n",
    "\n",
    "\n",
    "# generate a plot with fixed size: 15*12\n",
    "plt.figure(figsize=(15,12))\n",
    "\n",
    "\n",
    "# Generate a mask for the upper triangle\n",
    "mask = np.triu(np.ones_like(corr, dtype=bool))\n",
    "sns.heatmap(corr, mask = mask, annot=False, fmt=\".2f\", cmap='coolwarm', linewidths=0.5)\n",
    "# Draw the heatmap with the mask and correct aspect ratio\n",
    "plt.title('Correlation Matrix with Selected Labels')\n",
    "plt.xticks(ticks=all_ticks, labels=xticks_labels, rotation=45)\n",
    "plt.yticks(ticks=all_ticks, labels=yticks_labels, rotation=45)\n",
    "plt.show()\n",
    "\n",
    "\n",
    "\n"
   ]
  },
  {
   "cell_type": "code",
   "execution_count": null,
   "metadata": {},
   "outputs": [],
   "source": []
  },
  {
   "cell_type": "code",
   "execution_count": 70,
   "metadata": {},
   "outputs": [
    {
     "data": {
      "image/png": "[encoded data removed]",
      "text/plain": [
       "<Figure size 1500x1200 with 1 Axes>"
      ]
     },
     "metadata": {},
     "output_type": "display_data"
    }
   ],
   "source": [
    "%matplotlib inline\n",
    "import numpy as np\n",
    "import pandas as pd\n",
    "import matplotlib.pyplot as plt\n",
    "import seaborn as sns\n",
    "sns.set_style(\"white\")\n",
    "plt.figure(figsize=(15,12))\n",
    "df = pd.DataFrame(list(average_byte_frequency_table.items()), columns=['Byte Value', 'Frequency'])\n",
    "df_copy = df.copy(deep=True)\n",
    "df_copy[\"Byte Value\"] =pd.Categorical(df[\"Byte Value\"], categories=df[\"Byte Value\"].unique(), ordered=True)\n",
    "sns.barplot(\n",
    "        x='Byte Value',              # x-axis represents byte values (from 00 to FF)\n",
    "        y='Frequency',         # y-axis represents their corresponding frequency in percentage\n",
    "        data=df_copy,               # data source is our DataFrame created from the frequency table\n",
    "        width=1,\n",
    "        color='blue',           # color of the bars\n",
    "\n",
    "    )\n",
    "\n",
    "# Define the specific x-ticks you want to show (e.g., 1, 32, 64, etc.)\n",
    "xticks = list(range(0,256,32)) + [255]\n",
    "\n",
    "# Set the x-ticks as well as y-ticks to only show those values\n",
    "plt.xticks(ticks=xticks)\n",
    "plt.yticks(ticks=list(np.arange(0, 1.01, 0.1)))\n",
    "\n",
    "\n",
    "# set y axis to log scale\n",
    "# plt.yscale('log')\n",
    "plt.show()\n",
    "\n"
   ]
  },
  {
   "cell_type": "code",
   "execution_count": 89,
   "metadata": {},
   "outputs": [],
   "source": [
    "from mutagen.flac import FLAC\n",
    "\n",
    "# Load the .flac file\n",
    "total_duration = 0\n",
    "for file in os.listdir(\"/data/rech/huiyuche/bgpt_2/librispeech8K/train/LibriSpeech/dev-clean/\"):\n",
    "    if file.endswith(\".flac\"):\n",
    "        audio = FLAC(f\"/data/rech/huiyuche/bgpt_2/librispeech8K/train/LibriSpeech/dev-clean/{file}\")\n",
    "\n",
    "        # Get the duration in seconds\n",
    "        duration_in_seconds = audio.info.length\n",
    "        total_duration += duration_in_seconds\n",
    "\n",
    "average_duration = total_duration / 2703\n",
    "\n"
   ]
  },
  {
   "cell_type": "code",
   "execution_count": 90,
   "metadata": {},
   "outputs": [
    {
     "name": "stdout",
     "output_type": "stream",
     "text": [
      "7.175775342212348\n"
     ]
    }
   ],
   "source": [
    "print(average_duration)"
   ]
  },
  {
   "cell_type": "markdown",
   "metadata": {},
   "source": [
    "# Embedding Analysis"
   ]
  },
  {
   "cell_type": "markdown",
   "metadata": {},
   "source": [
    "#### Hyperparameters"
   ]
  },
  {
   "cell_type": "code",
   "execution_count": 1,
   "metadata": {},
   "outputs": [
    {
     "name": "stdout",
     "output_type": "stream",
     "text": [
      "/data/rech/huiyuche/huggingface/bgpt/weights-text.pth\n"
     ]
    }
   ],
   "source": [
    "\n",
    "PATCH_NUM_LAYERS = 12\n",
    "BYTE_NUM_LAYERS = 3\n",
    "PATCH_LENGTH = 512\n",
    "PATCH_SIZE = 16\n",
    "PATCH_SAMPLING_BATCH_SIZE = 0\n",
    "HIDDEN_SIZE = 768\n",
    "INFERENCE_WEIGHTS_PATH = \"/data/rech/huiyuche/huggingface/bgpt/weights-text.pth\"\n",
    "print(INFERENCE_WEIGHTS_PATH)"
   ]
  },
  {
   "cell_type": "markdown",
   "metadata": {},
   "source": [
    "#### Str_to_bytes"
   ]
  },
  {
   "cell_type": "code",
   "execution_count": 23,
   "metadata": {},
   "outputs": [],
   "source": [
    "def content_2_bytes(ext, content, PATCH_SIZE, PATCH_LENGTH, temp_dir = \"./temp_dir\"):\n",
    "\n",
    "    with open(f\"{temp_dir}/temp.{ext}\", \"w\", encoding = \"utf-8\" ) as f:\n",
    "        # if ext = \"txt\", write using utf-8 encoding\n",
    "        if ext == \"txt\":\n",
    "            f.write(content)\n",
    "    \n",
    "    ext_byte_array = bytearray(ext, 'utf-8')\n",
    "    ext_byte_array = [byte for byte in ext_byte_array][:PATCH_SIZE]\n",
    "\n",
    "    with open(f\"{temp_dir}/temp.{ext}\", 'rb') as f:\n",
    "        file_bytes = f.read()\n",
    "\n",
    "    bytes = []\n",
    "    for byte in file_bytes:\n",
    "        bytes.append(byte)\n",
    "\n",
    "    # padding. For each patch, if do not have enough bytes, pad with 256.\n",
    "    if len(bytes)%PATCH_SIZE!=0:\n",
    "        bytes = bytes + [256] * (PATCH_SIZE - len(bytes) % PATCH_SIZE)\n",
    "\n",
    "    bos_patch = ext_byte_array + [256] * (PATCH_SIZE - len(ext))\n",
    "    # 1. also add a bos patch at the beginning, as in inference.\n",
    "    bytes = bos_patch + bytes\n",
    "\n",
    "    # random slice...\n",
    "    if len(bytes) > PATCH_LENGTH*PATCH_SIZE:\n",
    "        effective_patches_num = PATCH_LENGTH + 1\n",
    "        if SHOW_WARNS:\n",
    "            warnings.warn(f\"Warning: {filename} is too long, truncating to {PATCH_LENGTH*PATCH_SIZE} bytes.\")\n",
    "        choices = [\"head\", \"body\", \"tail\"]\n",
    "        choice = random.choice(choices)\n",
    "        if choice == \"head\":\n",
    "            bytes = bytes[:PATCH_LENGTH*PATCH_SIZE]\n",
    "        elif choice == \"body\" and len(bytes) > (PATCH_LENGTH+1)*PATCH_SIZE:\n",
    "            start = random.randint(1, len(bytes)//PATCH_SIZE-PATCH_LENGTH)\n",
    "            bytes = bytes[start*PATCH_SIZE:(start+PATCH_LENGTH)*PATCH_SIZE]\n",
    "        else:\n",
    "            bytes = bytes[-PATCH_LENGTH*PATCH_SIZE:]\n",
    "\n",
    "    masks = [1] * (len(bytes)//PATCH_SIZE)\n",
    "\n",
    "    return bytes, masks"
   ]
  },
  {
   "cell_type": "markdown",
   "metadata": {},
   "source": [
    "#### load model"
   ]
  },
  {
   "cell_type": "code",
   "execution_count": 2,
   "metadata": {},
   "outputs": [
    {
     "name": "stderr",
     "output_type": "stream",
     "text": [
      "/data/rech/huiyuche/envs/bgpt/lib/python3.7/site-packages/tqdm/auto.py:21: TqdmWarning: IProgress not found. Please update jupyter and ipywidgets. See https://ipywidgets.readthedocs.io/en/stable/user_install.html\n",
      "  from .autonotebook import tqdm as notebook_tqdm\n"
     ]
    },
    {
     "name": "stdout",
     "output_type": "stream",
     "text": [
      "Parameter Number: 110084352\n",
      "4\n"
     ]
    }
   ],
   "source": [
    "\n",
    "import os\n",
    "import time\n",
    "import torch\n",
    "import importlib\n",
    "import sys\n",
    "from model import bGPTLMHeadModel\n",
    "from transformers import GPT2Config\n",
    "if torch.cuda.is_available():    \n",
    "    device = torch.device(\"cuda\")\n",
    "else:\n",
    "    device = torch.device(\"cpu\")\n",
    "\n",
    "patch_config = GPT2Config(\n",
    "    num_hidden_layers=PATCH_NUM_LAYERS, \n",
    "    max_length=PATCH_LENGTH, \n",
    "    max_position_embeddings=PATCH_LENGTH,\n",
    "    hidden_size=HIDDEN_SIZE,\n",
    "    n_head=HIDDEN_SIZE//64,\n",
    "    vocab_size=1)   \n",
    "\n",
    "byte_config = GPT2Config(\n",
    "    num_hidden_layers=BYTE_NUM_LAYERS, \n",
    "    max_length=PATCH_SIZE+1, \n",
    "    max_position_embeddings=PATCH_SIZE+1,\n",
    "    hidden_size=HIDDEN_SIZE,\n",
    "    n_head=HIDDEN_SIZE//64,\n",
    "    vocab_size=256+1) # vocal size is all possible values of a byte plus 1 for eos.\n",
    "\n",
    "model = bGPTLMHeadModel(patch_config, byte_config, PATCH_SIZE, PATCH_SAMPLING_BATCH_SIZE)\n",
    "print(\"Parameter Number: \"+str(sum(p.numel() for p in model.parameters() if p.requires_grad)))\n",
    "\n",
    "checkpoint = torch.load(INFERENCE_WEIGHTS_PATH, map_location=torch.device(device))\n",
    "model.load_state_dict(checkpoint['model'])\n",
    "model = model.to(device)\n",
    "model.eval()\n",
    "patch_level_decoder = model.patch_level_decoder\n",
    "print(4)"
   ]
  },
  {
   "cell_type": "code",
   "execution_count": 25,
   "metadata": {},
   "outputs": [
    {
     "name": "stdout",
     "output_type": "stream",
     "text": [
      "[116, 120, 116, 256, 256, 256, 256, 256, 256, 256, 256, 256, 256, 256, 256, 256, 84, 111, 100, 97, 121, 32, 105, 115, 32, 97, 32, 103, 111, 111, 100, 32, 100, 97, 121, 46, 32, 83, 111, 32, 105, 116, 32, 105, 115, 32, 97, 32, 103, 111, 111, 100, 32, 99, 104, 111, 105, 99, 101, 32, 102, 111, 114, 32, 109, 101, 32, 116, 111, 32, 103, 111, 32, 111, 117, 116, 32, 102, 111, 114, 32, 97, 32, 119, 97, 108, 107, 46, 256, 256, 256, 256, 256, 256, 256, 256]\n",
      "torch.Size([1, 96])\n",
      "1\n"
     ]
    }
   ],
   "source": [
    "test_string = \"Today is a good day. So it is a good choice for me to go out for a walk.\"\n",
    "byte_array, _ = content_2_bytes(\"txt\", test_string, PATCH_SIZE, PATCH_LENGTH)\n",
    "print(byte_array)\n",
    "# convert to tensor, to cuda\n",
    "byte_array = torch.tensor([byte_array]).to(device)\n",
    "print(byte_array.shape)\n",
    "print(len(byte_array))\n",
    "patch_array = byte_array.reshape(len(byte_array), -1, PATCH_SIZE)\n",
    "with torch.no_grad():\n",
    "    output = patch_level_decoder(patch_array)\n",
    "\n",
    "last_hidden_state = output[\"last_hidden_state\"]\n"
   ]
  },
  {
   "cell_type": "code",
   "execution_count": 26,
   "metadata": {},
   "outputs": [
    {
     "name": "stdout",
     "output_type": "stream",
     "text": [
      "torch.Size([1, 6, 768])\n"
     ]
    }
   ],
   "source": [
    "print(last_hidden_state.shape)"
   ]
  },
  {
   "cell_type": "code",
   "execution_count": 19,
   "metadata": {},
   "outputs": [
    {
     "data": {
      "text/plain": [
       "5.5"
      ]
     },
     "execution_count": 19,
     "metadata": {},
     "output_type": "execute_result"
    }
   ],
   "source": [
    "22616/4112"
   ]
  },
  {
   "cell_type": "code",
   "execution_count": 15,
   "metadata": {},
   "outputs": [
    {
     "name": "stdout",
     "output_type": "stream",
     "text": [
      "2\n"
     ]
    }
   ],
   "source": [
    "class a():\n",
    "    def __init__(self, c):\n",
    "        self.a = 1\n",
    "        self.c = c\n",
    "    def b(self):\n",
    "        print(self.c)\n",
    "\n",
    "a(2).b()"
   ]
  }
 ],
 "metadata": {
  "kernelspec": {
   "display_name": "bgpt",
   "language": "python",
   "name": "python3"
  },
  "language_info": {
   "codemirror_mode": {
    "name": "ipython",
    "version": 3
   },
   "file_extension": ".py",
   "mimetype": "text/x-python",
   "name": "python",
   "nbconvert_exporter": "python",
   "pygments_lexer": "ipython3",
   "version": "3.7.9"
  }
 },
 "nbformat": 4,
 "nbformat_minor": 2
}
