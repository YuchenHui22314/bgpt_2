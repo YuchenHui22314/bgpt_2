{
 "cells": [
  {
   "cell_type": "code",
   "execution_count": 1,
   "metadata": {},
   "outputs": [],
   "source": [
    "import torch"
   ]
  },
  {
   "cell_type": "code",
   "execution_count": 2,
   "metadata": {},
   "outputs": [
    {
     "data": {
      "text/plain": [
       "[111]"
      ]
     },
     "execution_count": 2,
     "metadata": {},
     "output_type": "execute_result"
    }
   ],
   "source": [
    "[111] + [222] * (-1)"
   ]
  },
  {
   "cell_type": "code",
   "execution_count": 4,
   "metadata": {},
   "outputs": [
    {
     "name": "stdout",
     "output_type": "stream",
     "text": [
      "bytearray(b'mp3')\n",
      "<class 'int'>\n",
      "<class 'int'>\n",
      "<class 'int'>\n",
      "[109, 112, 51]\n",
      "tensor([[[109, 112,  51]]])\n"
     ]
    }
   ],
   "source": [
    "byte_array = bytearray(\"mp3\", 'utf-8')\n",
    "print(byte_array)\n",
    "bytes = []\n",
    "for byte in byte_array:\n",
    "    bytes.append(byte)\n",
    "    print(type(byte))\n",
    "print(bytes)\n",
    "\n",
    "\n",
    "input_patches = torch.tensor([bytes], device=\"cpu\")\n",
    "feed_to_generate = input_patches.unsqueeze(0)\n",
    "inside = feed_to_generate.reshape(1, 1, -1)\n",
    "print(inside)\n",
    "\n",
    "\n"
   ]
  },
  {
   "cell_type": "code",
   "execution_count": null,
   "metadata": {},
   "outputs": [],
   "source": []
  }
 ],
 "metadata": {
  "kernelspec": {
   "display_name": "Python 3",
   "language": "python",
   "name": "python3"
  },
  "language_info": {
   "codemirror_mode": {
    "name": "ipython",
    "version": 3
   },
   "file_extension": ".py",
   "mimetype": "text/x-python",
   "name": "python",
   "nbconvert_exporter": "python",
   "pygments_lexer": "ipython3",
   "version": "3.10.12"
  }
 },
 "nbformat": 4,
 "nbformat_minor": 2
}
